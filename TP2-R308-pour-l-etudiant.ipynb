{
 "cells": [
  {
   "cell_type": "markdown",
   "metadata": {},
   "source": [
    "### Livrables attendus et compétences:\n",
    "\n",
    "#### Livrables\n",
    "\n",
    "- Ce Notebook avec vos codes et des preuves de son fonctionnement.\n",
    "- Une validation par l'enseignant au cours du TP.\n",
    "- Le travail est individuel sauf contre indication.\n",
    "- Le travail est rendu sur github education. L'URL sera communiquée par l'enseignant.\n",
    "\n",
    "#### Compétences qui vont être alimentées:\n",
    "\n",
    "\n",
    "- Utiliser un système informatiques et ses outils.\n",
    "- Lire, exécuter, corriger et modifier un programme.\n",
    "- S'intégrer dans un environnement propice au développement et au travail collaboratif.\n",
    "- Lier entre aux deux apprentissages critiques.\n",
    "  \n",
    "#### Composantes essentielles\n",
    "\n",
    "- Il respecte les règles métiers.\n",
    "- En utilisant une approche rigoureuse pour les dysfonctionnements. \n",
    "- Il assure une veille technologique."
   ]
  },
  {
   "cell_type": "markdown",
   "metadata": {},
   "source": [
    "Dès que vous le pouvez utilisez les patterns montrés par l'enseignant dans le  cours \"Python avancée\" pour coder."
   ]
  },
  {
   "cell_type": "markdown",
   "metadata": {},
   "source": [
    "# Révisions de BUT1"
   ]
  },
  {
   "cell_type": "markdown",
   "metadata": {},
   "source": [
    "## Exercice 1:  Dictionnaire \n",
    "\n",
    "Durée estimée 10 mn 3,5 pts\n",
    "\n",
    "- Créez un dictionnaire via dict()\n",
    "- Ajoutez des valeurs à l'aide D[clef]=valeur (prendre par exemple les os (windows , linux, mac , vms , aix , solaris )comme clefs et vos appréciations perso comme valeurs rattachées à cette clef.\n",
    "- Retrouvez une valeur avec D.get(clef)\n",
    "- Listez les clefs/valeurs à l'aide de la fonction items() via une boucle for.\n",
    "- Listez les clefs via keys() et les valeurs via values()"
   ]
  },
  {
   "cell_type": "code",
   "execution_count": 7,
   "metadata": {},
   "outputs": [
    {
     "name": "stdout",
     "output_type": "stream",
     "text": [
      "Bien pour jouer ou pour premier os\n",
      "---------------------------------------------\n",
      "('Linux', 'Bien pour la prog et pour le réseau')\n",
      "('Windows', 'Bien pour jouer ou pour premier os')\n",
      "('Mac', 'Nul')\n",
      "---------------------------------------------\n",
      "Linux\n",
      "Windows\n",
      "Mac\n",
      "---------------------------------------------\n",
      "Bien pour la prog et pour le réseau\n",
      "Bien pour jouer ou pour premier os\n",
      "Nul\n"
     ]
    }
   ],
   "source": [
    "dico= dict()    #Initiation d'un dictionaire\n",
    "\n",
    "dico [\"Linux\"]= \"Bien pour la prog et pour le réseau\"\n",
    "dico [\"Windows\"]= \"Bien pour jouer ou pour premier os\"\n",
    "dico [\"Mac\"]= \"Nul\"\n",
    "\n",
    "\n",
    "print (dico.get(\"Windows\"))\n",
    "print('---------------------------------------------')\n",
    "\n",
    "for i in dico.items():\n",
    "    print(i)\n",
    "print('---------------------------------------------')\n",
    "\n",
    "for k in dico.keys():\n",
    "    print(k)\n",
    "print('---------------------------------------------')\n",
    "\n",
    "for v in dico.values():\n",
    "    print(v)"
   ]
  },
  {
   "cell_type": "markdown",
   "metadata": {},
   "source": [
    "## Exercice 2 Liste \n",
    "\n",
    "Durée estimée 10 mn 3,5 points \n",
    "\n",
    "Créez une liste des jours de la semaine.\n",
    "\n",
    "- Copiez là :\n",
    "lCopie = [:]\n",
    "- Enlevez samedi et dimanche via la function pop\n",
    "- Les rajouter via append\n",
    "- Extraire les éléments jeudi,vendredi de la liste.( slicing )\n",
    "- Affichez  la liste  inversée via un slicing[::-1] \n",
    "- Faire un tri de la liste via sort\n",
    "- Listez un élément sur 2 de la liste avec un tri décroissant\n",
    "- Quelle est la différence entre l.reverse() \n",
    "    et l[::-1] ?\n",
    "- Faire un cast de la liste en string avec un séparateur « ; »\n",
    "Pour cela utiliser la syntaxe  \";\".join(liste)"
   ]
  },
  {
   "cell_type": "code",
   "execution_count": 26,
   "metadata": {},
   "outputs": [
    {
     "name": "stdout",
     "output_type": "stream",
     "text": [
      "La copie\n",
      "['Lundi', 'Mardi', 'Mercredi', 'Jeudi', 'Vendredi', 'Samedi', 'Dimanche']\n",
      "---------------------------------------------\n",
      "On supprime des éléments de lCopie\n",
      "['Lundi', 'Mardi', 'Mercredi', 'Jeudi', 'Vendredi']\n",
      "---------------------------------------------\n",
      "On ajoute des éléments dans lCopie\n",
      "['Lundi', 'Mardi', 'Mercredi', 'Jeudi', 'Vendredi', 'Samedi', 'Dimanche']\n",
      "---------------------------------------------\n",
      "On prend deux valeurs\n",
      "['Jeudi', 'Vendredi']\n",
      "---------------------------------------------\n",
      "On inverse\n",
      "['Dimanche', 'Samedi', 'Vendredi', 'Jeudi', 'Mercredi', 'Mardi', 'Lundi']\n",
      "---------------------------------------------\n",
      "On trie\n",
      "['Dimanche', 'Jeudi', 'Lundi', 'Mardi', 'Mercredi', 'Samedi', 'Vendredi']\n",
      "---------------------------------------------\n",
      "On trie à l'envers\n",
      "['Vendredi', 'Samedi', 'Mercredi', 'Mardi', 'Lundi', 'Jeudi', 'Dimanche']\n",
      "---------------------------------------------\n",
      "On prend une valeur sur deux\n",
      "['Vendredi', 'Mercredi', 'Lundi', 'Dimanche']\n",
      "---------------------------------------------\n",
      "l.reverse s'applique sur le liste tandsi que le slicing s'applique sur le clone\n",
      "---------------------------------------------\n",
      "Transformation de liste en string\n",
      "Lundi;Mardi;Mercredi;Jeudi;Vendredi;Samedi;Dimanche\n"
     ]
    }
   ],
   "source": [
    "jour=['Lundi','Mardi','Mercredi','Jeudi','Vendredi','Samedi','Dimanche']\n",
    "\n",
    "lCopie=jour[:]\n",
    "print(\"La copie\")\n",
    "print(lCopie)\n",
    "print('---------------------------------------------')\n",
    "lCopie.pop(6)\n",
    "lCopie.pop(5)\n",
    "print(\"On supprime des éléments de lCopie\")\n",
    "print(lCopie)\n",
    "print('---------------------------------------------')\n",
    "lCopie.append('Samedi')\n",
    "lCopie.append('Dimanche')\n",
    "print(\"On ajoute des éléments dans lCopie\")\n",
    "print(lCopie)\n",
    "print('---------------------------------------------')\n",
    "print(\"On prend deux valeurs\")\n",
    "print(lCopie[3:5])\n",
    "print('---------------------------------------------')\n",
    "print(\"On inverse\")\n",
    "print(lCopie[::-1])\n",
    "print('---------------------------------------------')\n",
    "print(\"On trie\")\n",
    "lCopie.sort()\n",
    "print(lCopie)\n",
    "print('---------------------------------------------')\n",
    "print(\"On trie à l'envers\")\n",
    "lCopie.sort(reverse=True)\n",
    "print(lCopie)\n",
    "print('---------------------------------------------')\n",
    "print(\"On prend une valeur sur deux\")\n",
    "print(lCopie[::2])\n",
    "print('---------------------------------------------')\n",
    "print(\"l.reverse s'applique sur le liste tandis que le slicing s'applique sur le clone\")\n",
    "print('---------------------------------------------')\n",
    "print(\"Transformation de liste en string\")\n",
    "c= \";\".join(jour)\n",
    "print(c)"
   ]
  },
  {
   "cell_type": "markdown",
   "metadata": {},
   "source": [
    "## Exercice 3: \"shallow copy\"  et \"deep copy\":\n",
    "\n",
    "Durée estimée: 5 mn\n",
    " L1 = [['un','deux','trois'],1,2,3]\n",
    "    \n",
    "      Vérifiez via la commande \"is\" que L1 est égal à L2\n",
    "\n",
    "       Enlevez 'un' de L1.\n",
    "Qu'y a t il dans L2 ?\n",
    "Utilisez le module deepcopy  et refaites les mêmes tests.\n",
    "\n",
    "Que veux donc dire shallow et deepcopy ?\n"
   ]
  },
  {
   "cell_type": "code",
   "execution_count": 32,
   "metadata": {},
   "outputs": [
    {
     "name": "stdout",
     "output_type": "stream",
     "text": [
      "[['un', 'deux', 'trois'], 1, 2, 3]\n",
      "[['un', 'deux', 'trois'], 1, 2, 3]\n",
      "True\n",
      "[['un', 'deux', 'trois'], 2, 3]\n",
      "[['un', 'deux', 'trois'], 2, 3]\n",
      "True\n"
     ]
    }
   ],
   "source": [
    "import copy\n",
    "\n",
    "\n",
    "L1 = [['un','deux','trois'],1,2,3]\n",
    "\n",
    "L2=L1\n",
    "print(L1)\n",
    "print(L2)\n",
    "print(L1 is L2)\n",
    "\n",
    "L1.pop(1)\n",
    "print(L1)\n",
    "print(L2)\n",
    "print(L1 is L2)"
   ]
  },
  {
   "cell_type": "code",
   "execution_count": 35,
   "metadata": {},
   "outputs": [
    {
     "name": "stdout",
     "output_type": "stream",
     "text": [
      "[['un', 'deux', 'trois'], 1, 2, 3]\n",
      "[['un', 'deux', 'trois'], 1, 2, 3]\n",
      "False\n",
      "[['un', 'deux', 'trois'], 2, 3]\n",
      "[['un', 'deux', 'trois'], 1, 2, 3]\n",
      "False\n"
     ]
    }
   ],
   "source": [
    "import copy\n",
    "\n",
    "L1 = [['un','deux','trois'],1,2,3]\n",
    "\n",
    "L2=copy.deepcopy(L1)\n",
    "print(L1)\n",
    "print(L2)\n",
    "print(L1 is L2)\n",
    "L1.pop(1)\n",
    "print(L1)\n",
    "print(L2)\n",
    "print(L1 is L2)\n"
   ]
  },
  {
   "cell_type": "markdown",
   "metadata": {},
   "source": [
    "Shallow = même pointeur d'objet\n",
    "Deep = pas le même pointeur"
   ]
  },
  {
   "cell_type": "markdown",
   "metadata": {},
   "source": [
    "## Exercice 4 Reformatage d'un fichier DHCP (source sous licence http://creativecommons.org/licenses/by-sa/3.0/)\n",
    "\n",
    "\n",
    "Il vous est proposé dans l'exercice suivant de \"parser\" un fichier de configuration permettant la distribution d'adresses IP à des postes de travail. Dans un premier temps vous n'utiliserez pas la programmation orientée objet puis dans un second temps vous re-créerez votre code ens utilisant des objets.\n",
    " \n",
    "\n",
    "Durée estimée 30 mn 6pts\n",
    "\n",
    "Comme le formatage du fichier dhcpd.conf est très libre par rapport aux sauts de lignes, on va reformater le fichier à notre façon. Pour cela, on va fusionner toutes les lignes dans un string, que l'on pourra ensuite parser.\n",
    "\n",
    "Il s'agit donc ici d'implémenter cet algorithme en Python:\n",
    "\n",
    "    de lire le fichier ligne par ligne (utiliser le package fileinput)\n",
    "    d'éliminer les lignes vides et les commentaires (vous pouvez utilisez utiliser re.sub(...))\n",
    "    de concaténer le tout dans un string,\n",
    "    d'extraire les portions host {…} de ce string, (utilisez re.findall(...))\n",
    "    de stocker chaque portion extraite dans une liste hosts.\n",
    "    de faire un dump de cette liste.\n",
    "\n",
    "Extrait du Dump:\n",
    "['host coquil-gw1 { hardware ethernet 00:1d:09:0a:33:db; fixed-address coquil-gw1; }', 'host perso-ducrot { hardware ethernet 00:18:8B:D2:1C:4E; fixed-address perso-ducrot; }', 'host fpl { hardware ethernet 00:26:b9:5d:32:32;...\n"
   ]
  },
  {
   "cell_type": "code",
   "execution_count": 3,
   "metadata": {},
   "outputs": [
    {
     "name": "stdout",
     "output_type": "stream",
     "text": [
      "['host coquil-gw1 { hardware ethernet 00:1d:09:0a:33:db; fixed-address coquil-gw1; }', 'host perso-ducrot { hardware ethernet 00:18:8B:D2:1C:4E; fixed-address perso-ducrot; }', 'host fpl { hardware ethernet 00:26:b9:5d:32:32; fixed-address fpl; }']\n"
     ]
    }
   ],
   "source": []
  },
  {
   "cell_type": "markdown",
   "metadata": {},
   "source": [
    "## Exercice 4 Parseur DHCP \n",
    "\n",
    "Source sous licence http://creativecommons.org/licenses/by-sa/3.0/.\n",
    "\n",
    "Durée estimée: 1h15 7pts\n",
    "\n",
    "Nous allons écrire un script qui parcours un fichier dhcpd.conf, et construit une structure de données contenant pour chaque host une liste d'attributs choisis, associés à leur valeur. Ci-dessous un exemple de la structure de données que l'on pourrait construire :\n",
    "\n",
    "```\n",
    "'fpl'       => {\n",
    "                  'ip' => 'fpl',\n",
    "                  'mac' => '00:26:b9:5d:32:32'\n",
    "               },\n",
    "'roundcube' => {\n",
    "                  'ip' => 'roundcube',\n",
    "                  'mac' => '00:16:36:09:2d:b9'\n",
    "               },\n",
    "'visiteur2' => {\n",
    "                  'mac' => '00:60:B0:D5:3B:05'\n",
    "               }\n",
    "```\n",
    "Finalité\n",
    "\n",
    "Lorsque vous développez des composants logiciels, il peut être intéressant de les diffuser, pour vous même ou plus largement.\n",
    "Vous allez réécrire le parseur DHCP sous forme objet.\n",
    "Puis vous allez créer un paquet contenant une bibliothéque et un exécutable.\n",
    "\n",
    "\n",
    "Nous allons créer 2 classes (il est impératif d'utiliser la POO) :\n",
    "\n",
    "    une classe DHCP::Host, modélisant une entrée host du fichier dhcpd.conf\n",
    "    une classe DHCP::Database, modélisant l'ensemble des informations parsées du fichier dhcpd.conf (c'est-à-dire l'ensemble des entrées host).\n",
    "\n",
    "Pour cela, nous souhaitons que :\n",
    "\n",
    "    DHCP::Host dispose d'un constructeur avec 2 paramètres : le nom du host, et un hash pour les attributs\n",
    "    DHCP::Database dispose d'une méthode addPattern qui ajoute un nouvel attribut à extraire,\n",
    "    DHCP::Database dispose d'une méthode load qui parse le fichier dont le nom est fourni en argument,\n",
    "    DHCP::Database dispose d'une méthode dump qui visualise le contenu de la database.\n",
    "\n",
    "```Python\n",
    "from Database import Database\n",
    "chemin=\"/home/pouchou/ownCloud/formations/latex/BUT/but-notebooks/R308/CM-TD-TP/TP/TP1 Révisions et traitement d'un fichier DHCP/DHCP/dhcpd.conf\"\n",
    "db = Database()\n",
    "db.addPattern( \"mac\", 'hardware\\s+ethernet\\s+(\\S+)' )\n",
    "db.addPattern( \"ip\",  'fixed-address\\s+(\\S+)'       )\n",
    "db.load(chemin)\n",
    "db.dump()\n",
    "class Database:\n",
    "    \"\"\"Classe relative au DHCP \"\"\"\n",
    "    def __init__(self):\n",
    "        self.pattern={}\n",
    "        self.hosts=[]\n",
    "    def addPattern(self,key,pattern):\n",
    "        \"\"\" Méthode d'ajout d'une mac ou d'une IP \"\"\"\n",
    "        ...\n",
    "    def dump(self):\n",
    "        \"\"\"Affichage de l'entrée hôte\"\"\"\n",
    "        ...\n",
    "    def load(self,filename):\n",
    "        \"\"\"Chargement du fichier DHCP\"\n",
    "        ...\n",
    "```\n",
    "```Python\n",
    "class Host:\n",
    "    \"\"\" Classe représentant une machine\"\"\"\n",
    "    def __init__(self,hostname:str,attributes):\n",
    "        self.hostname = hostname\n",
    "        self.attributes = attributes\n",
    "          \n",
    "    def __repr__(self):\n",
    "        return f\"DHCP::Host(hostname={self.hostname} attributes={self.attributes}\"\n",
    "\n",
    "```\n",
    "main.py\n",
    "```python\n",
    "from Database import Database\n",
    "chemin=\"/home/pouchou/ownCloud/formations/latex/BUT/but-notebooks/R308/CM-TD-TP/TP/TP1 Révisions et traitement d'un fichier DHCP/DHCP/dhcpd.conf\"\n",
    "db = Database()\n",
    "db.addPattern( \"mac\", 'hardware\\s+ethernet\\s+(\\S+)' )\n",
    "db.addPattern( \"ip\",  'fixed-address\\s+(\\S+)'       )\n",
    "db.load(chemin)\n",
    "db.dump()\n",
    "```\n",
    "Le programme donnera la sortie suivante:\n",
    "\n",
    "python main.py\n",
    "2: [DHCP::Host(hostname=\"coquil-gw1\",attributes={'ip': 'coquil-gw1', 'mac': '00:1d:09:0a:33:db'}),\n",
    "3:  DHCP::Host(hostname=\"fpl\",attributes={'ip': 'fpl', 'mac': '00:26:b9:5d:32:32'}),\n",
    "4:  DHCP::Host(hostname=\"roundcube\",attributes={'ip': 'roundcube', 'mac': '00:16:36:09:2d:b9'}),\n",
    "5:  DHCP::Host(hostname=\"deux\",attributes={'ip': 'deux', 'mac': '00:14:38:63:6E:F3'}),\n",
    "6:  DHCP::Host(hostname=\"visiteur1\",attributes={'mac': '00:00:aa:be:93:5d'}),\n",
    "7:  DHCP::Host(hostname=\"visiteur2\",attributes={'mac': '00:60:B0:D5:3B:05'})]"
   ]
  }
 ],
 "metadata": {
  "kernelspec": {
   "display_name": "Python 3.10.6 64-bit",
   "language": "python",
   "name": "python3"
  },
  "language_info": {
   "codemirror_mode": {
    "name": "ipython",
    "version": 3
   },
   "file_extension": ".py",
   "mimetype": "text/x-python",
   "name": "python",
   "nbconvert_exporter": "python",
   "pygments_lexer": "ipython3",
   "version": "3.10.6"
  },
  "orig_nbformat": 4,
  "vscode": {
   "interpreter": {
    "hash": "916dbcbb3f70747c44a77c7bcd40155683ae19c65e1c03b4aa3499c5328201f1"
   }
  }
 },
 "nbformat": 4,
 "nbformat_minor": 2
}
